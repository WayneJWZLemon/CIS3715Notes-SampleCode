{
 "cells": [
  {
   "cell_type": "markdown",
   "metadata": {},
   "source": [
    "# Lab 8: PageRank"
   ]
  },
  {
   "cell_type": "markdown",
   "metadata": {},
   "source": [
    "In this assignment, we will learn how to compute the importance score of nodes in a graph by using the PageRank method."
   ]
  },
  {
   "cell_type": "markdown",
   "metadata": {},
   "source": [
    "## Generate a graph\n",
    "\n",
    "Here, we use [NetworkX](https://networkx.org/) to generate a directed graph. Then, we will apply PageRank method to this graph. "
   ]
  },
  {
   "cell_type": "code",
   "execution_count": 11,
   "metadata": {},
   "outputs": [
    {
     "output_type": "display_data",
     "data": {
      "text/plain": "<Figure size 432x288 with 1 Axes>",
      "image/svg+xml": "<?xml version=\"1.0\" encoding=\"utf-8\" standalone=\"no\"?>\n<!DOCTYPE svg PUBLIC \"-//W3C//DTD SVG 1.1//EN\"\n  \"http://www.w3.org/Graphics/SVG/1.1/DTD/svg11.dtd\">\n<!-- Created with matplotlib (https://matplotlib.org/) -->\n<svg height=\"302.4pt\" version=\"1.1\" viewBox=\"0 0 446.4 302.4\" width=\"446.4pt\" xmlns=\"http://www.w3.org/2000/svg\" xmlns:xlink=\"http://www.w3.org/1999/xlink\">\n <metadata>\n  <rdf:RDF xmlns:cc=\"http://creativecommons.org/ns#\" xmlns:dc=\"http://purl.org/dc/elements/1.1/\" xmlns:rdf=\"http://www.w3.org/1999/02/22-rdf-syntax-ns#\">\n   <cc:Work>\n    <dc:type rdf:resource=\"http://purl.org/dc/dcmitype/StillImage\"/>\n    <dc:date>2021-04-09T15:59:50.045761</dc:date>\n    <dc:format>image/svg+xml</dc:format>\n    <dc:creator>\n     <cc:Agent>\n      <dc:title>Matplotlib v3.3.3, https://matplotlib.org/</dc:title>\n     </cc:Agent>\n    </dc:creator>\n   </cc:Work>\n  </rdf:RDF>\n </metadata>\n <defs>\n  <style type=\"text/css\">*{stroke-linecap:butt;stroke-linejoin:round;}</style>\n </defs>\n <g id=\"figure_1\">\n  <g id=\"patch_1\">\n   <path d=\"M 0 302.4 \nL 446.4 302.4 \nL 446.4 0 \nL 0 0 \nz\n\" style=\"fill:#ffffff;\"/>\n  </g>\n  <g id=\"axes_1\">\n   <g id=\"patch_2\">\n    <path clip-path=\"url(#pb74a454f11)\" d=\"M 53.280872 211.446422 \nQ 166.424961 197.614004 278.459278 183.917261 \n\" style=\"fill:none;stroke:#000000;stroke-linecap:round;\"/>\n    <path clip-path=\"url(#pb74a454f11)\" d=\"M 274.246137 182.417447 \nL 278.459278 183.917261 \nL 274.731542 186.387886 \nL 274.246137 182.417447 \nz\n\" style=\"stroke:#000000;stroke-linecap:round;\"/>\n   </g>\n   <g id=\"patch_3\">\n    <path clip-path=\"url(#pb74a454f11)\" d=\"M 283.406534 189.962392 \nQ 259.374319 226.469513 235.956851 262.042778 \n\" style=\"fill:none;stroke:#000000;stroke-linecap:round;\"/>\n    <path clip-path=\"url(#pb74a454f11)\" d=\"M 239.826767 259.801406 \nL 235.956851 262.042778 \nL 236.485703 257.602022 \nL 239.826767 259.801406 \nz\n\" style=\"stroke:#000000;stroke-linecap:round;\"/>\n   </g>\n   <g id=\"patch_4\">\n    <path clip-path=\"url(#pb74a454f11)\" d=\"M 295.814787 186.799097 \nQ 344.942061 212.936097 393.082299 238.547968 \n\" style=\"fill:none;stroke:#000000;stroke-linecap:round;\"/>\n    <path clip-path=\"url(#pb74a454f11)\" d=\"M 390.490352 234.903546 \nL 393.082299 238.547968 \nL 388.611594 238.434873 \nL 390.490352 234.903546 \nz\n\" style=\"stroke:#000000;stroke-linecap:round;\"/>\n   </g>\n   <g id=\"patch_5\">\n    <path clip-path=\"url(#pb74a454f11)\" d=\"M 291.207289 174.621869 \nQ 316.38737 107.460028 341.17496 41.345063 \n\" style=\"fill:none;stroke:#000000;stroke-linecap:round;\"/>\n    <path clip-path=\"url(#pb74a454f11)\" d=\"M 337.898031 44.388373 \nL 341.17496 41.345063 \nL 341.643451 45.792593 \nL 337.898031 44.388373 \nz\n\" style=\"stroke:#000000;stroke-linecap:round;\"/>\n   </g>\n   <g id=\"patch_6\">\n    <path clip-path=\"url(#pb74a454f11)\" d=\"M 222.313158 267.641303 \nQ 137.635021 241.352757 54.024645 215.3957 \n\" style=\"fill:none;stroke:#000000;stroke-linecap:round;\"/>\n    <path clip-path=\"url(#pb74a454f11)\" d=\"M 57.251799 218.491742 \nL 54.024645 215.3957 \nL 58.437772 214.671602 \nL 57.251799 218.491742 \nz\n\" style=\"stroke:#000000;stroke-linecap:round;\"/>\n   </g>\n   <g id=\"patch_7\">\n    <path clip-path=\"url(#pb74a454f11)\" d=\"M 235.342335 262.976285 \nQ 259.374549 226.469164 282.792017 190.895899 \n\" style=\"fill:none;stroke:#000000;stroke-linecap:round;\"/>\n    <path clip-path=\"url(#pb74a454f11)\" d=\"M 278.922101 193.137271 \nL 282.792017 190.895899 \nL 282.263165 195.336655 \nL 278.922101 193.137271 \nz\n\" style=\"stroke:#000000;stroke-linecap:round;\"/>\n   </g>\n   <g id=\"patch_8\">\n    <path clip-path=\"url(#pb74a454f11)\" d=\"M 237.429702 264.90624 \nQ 303.084501 214.074093 367.855261 163.9264 \n\" style=\"fill:none;stroke:#000000;stroke-linecap:round;\"/>\n    <path clip-path=\"url(#pb74a454f11)\" d=\"M 363.468041 164.793755 \nL 367.855261 163.9264 \nL 365.916813 167.956588 \nL 363.468041 164.793755 \nz\n\" style=\"stroke:#000000;stroke-linecap:round;\"/>\n   </g>\n   <g id=\"patch_9\">\n    <path clip-path=\"url(#pb74a454f11)\" d=\"M 394.064871 239.070722 \nQ 344.937597 212.933722 296.797359 187.321851 \n\" style=\"fill:none;stroke:#000000;stroke-linecap:round;\"/>\n    <path clip-path=\"url(#pb74a454f11)\" d=\"M 299.389307 190.966273 \nL 296.797359 187.321851 \nL 301.268065 187.434946 \nL 299.389307 190.966273 \nz\n\" style=\"stroke:#000000;stroke-linecap:round;\"/>\n   </g>\n   <g id=\"patch_10\">\n    <path clip-path=\"url(#pb74a454f11)\" d=\"M 393.160557 244.492106 \nQ 316.149149 256.673496 240.242045 268.680211 \n\" style=\"fill:none;stroke:#000000;stroke-linecap:round;\"/>\n    <path clip-path=\"url(#pb74a454f11)\" d=\"M 244.505394 270.030715 \nL 240.242045 268.680211 \nL 243.880457 266.079834 \nL 244.505394 270.030715 \nz\n\" style=\"stroke:#000000;stroke-linecap:round;\"/>\n   </g>\n   <g id=\"patch_11\">\n    <path clip-path=\"url(#pb74a454f11)\" d=\"M 399.173207 234.858052 \nQ 388.649832 200.536944 378.454203 167.284752 \n\" style=\"fill:none;stroke:#000000;stroke-linecap:round;\"/>\n    <path clip-path=\"url(#pb74a454f11)\" d=\"M 377.714647 171.695314 \nL 378.454203 167.284752 \nL 381.538919 170.522734 \nL 377.714647 171.695314 \nz\n\" style=\"stroke:#000000;stroke-linecap:round;\"/>\n   </g>\n   <g id=\"patch_12\">\n    <path clip-path=\"url(#pb74a454f11)\" d=\"M 367.256824 160.301742 \nQ 331.876747 170.335027 297.57229 180.063281 \n\" style=\"fill:none;stroke:#000000;stroke-linecap:round;\"/>\n    <path clip-path=\"url(#pb74a454f11)\" d=\"M 301.966197 180.896098 \nL 297.57229 180.063281 \nL 300.874887 177.047846 \nL 301.966197 180.896098 \nz\n\" style=\"stroke:#000000;stroke-linecap:round;\"/>\n   </g>\n   <g id=\"patch_13\">\n    <path clip-path=\"url(#pb74a454f11)\" d=\"M 368.740545 163.240983 \nQ 303.085746 214.073129 238.314986 264.220823 \n\" style=\"fill:none;stroke:#000000;stroke-linecap:round;\"/>\n    <path clip-path=\"url(#pb74a454f11)\" d=\"M 242.702206 263.353468 \nL 238.314986 264.220823 \nL 240.253434 260.190634 \nL 242.702206 263.353468 \nz\n\" style=\"stroke:#000000;stroke-linecap:round;\"/>\n   </g>\n   <g id=\"patch_14\">\n    <path clip-path=\"url(#pb74a454f11)\" d=\"M 378.12783 166.220313 \nQ 388.651205 200.541421 398.846834 233.793612 \n\" style=\"fill:none;stroke:#000000;stroke-linecap:round;\"/>\n    <path clip-path=\"url(#pb74a454f11)\" d=\"M 399.58639 229.38305 \nL 398.846834 233.793612 \nL 395.762118 230.55563 \nL 399.58639 229.38305 \nz\n\" style=\"stroke:#000000;stroke-linecap:round;\"/>\n   </g>\n   <g id=\"patch_15\">\n    <path clip-path=\"url(#pb74a454f11)\" d=\"M 373.517063 149.530994 \nQ 360.09811 95.067144 346.946622 41.688863 \n\" style=\"fill:none;stroke:#000000;stroke-linecap:round;\"/>\n    <path clip-path=\"url(#pb74a454f11)\" d=\"M 345.96161 46.051173 \nL 346.946622 41.688863 \nL 349.845463 45.094259 \nL 345.96161 46.051173 \nz\n\" style=\"stroke:#000000;stroke-linecap:round;\"/>\n   </g>\n   <g id=\"PathCollection_1\">\n    <defs>\n     <path d=\"M 0 8.660254 \nC 2.296726 8.660254 4.499694 7.747755 6.123724 6.123724 \nC 7.747755 4.499694 8.660254 2.296726 8.660254 0 \nC 8.660254 -2.296726 7.747755 -4.499694 6.123724 -6.123724 \nC 4.499694 -7.747755 2.296726 -8.660254 0 -8.660254 \nC -2.296726 -8.660254 -4.499694 -7.747755 -6.123724 -6.123724 \nC -7.747755 -4.499694 -8.660254 -2.296726 -8.660254 0 \nC -8.660254 2.296726 -7.747755 4.499694 -6.123724 6.123724 \nC -4.499694 7.747755 -2.296726 8.660254 0 8.660254 \nz\n\" id=\"m0211cf8a49\" style=\"stroke:#1f78b4;\"/>\n    </defs>\n    <g clip-path=\"url(#pb74a454f11)\">\n     <use style=\"fill:#1f78b4;stroke:#1f78b4;\" x=\"44.687603\" xlink:href=\"#m0211cf8a49\" y=\"212.496991\"/>\n     <use style=\"fill:#1f78b4;stroke:#1f78b4;\" x=\"288.167262\" xlink:href=\"#m0211cf8a49\" y=\"182.730413\"/>\n     <use style=\"fill:#1f78b4;stroke:#1f78b4;\" x=\"230.581607\" xlink:href=\"#m0211cf8a49\" y=\"270.208264\"/>\n     <use style=\"fill:#1f78b4;stroke:#1f78b4;\" x=\"401.712397\" xlink:href=\"#m0211cf8a49\" y=\"243.139406\"/>\n     <use style=\"fill:#1f78b4;stroke:#1f78b4;\" x=\"375.58864\" xlink:href=\"#m0211cf8a49\" y=\"157.938958\"/>\n     <use style=\"fill:#1f78b4;stroke:#1f78b4;\" x=\"344.606694\" xlink:href=\"#m0211cf8a49\" y=\"32.191736\"/>\n    </g>\n   </g>\n   <g id=\"text_1\">\n    <g clip-path=\"url(#pb74a454f11)\">\n     <!-- 0 -->\n     <g transform=\"translate(40.512916 215.808241)scale(0.12 -0.12)\">\n      <defs>\n       <path d=\"M 46 36.53125 \nQ 46 50.203125 43.4375 55.78125 \nQ 40.875 61.375 34.8125 61.375 \nQ 28.765625 61.375 26.171875 55.78125 \nQ 23.578125 50.203125 23.578125 36.53125 \nQ 23.578125 22.703125 26.171875 17.03125 \nQ 28.765625 11.375 34.8125 11.375 \nQ 40.828125 11.375 43.40625 17.03125 \nQ 46 22.703125 46 36.53125 \nz\nM 64.796875 36.375 \nQ 64.796875 18.265625 56.984375 8.421875 \nQ 49.171875 -1.421875 34.8125 -1.421875 \nQ 20.40625 -1.421875 12.59375 8.421875 \nQ 4.78125 18.265625 4.78125 36.375 \nQ 4.78125 54.546875 12.59375 64.375 \nQ 20.40625 74.21875 34.8125 74.21875 \nQ 49.171875 74.21875 56.984375 64.375 \nQ 64.796875 54.546875 64.796875 36.375 \nz\n\" id=\"DejaVuSans-Bold-48\"/>\n      </defs>\n      <use xlink:href=\"#DejaVuSans-Bold-48\"/>\n     </g>\n    </g>\n   </g>\n   <g id=\"text_2\">\n    <g clip-path=\"url(#pb74a454f11)\">\n     <!-- 1 -->\n     <g transform=\"translate(283.992574 186.041663)scale(0.12 -0.12)\">\n      <defs>\n       <path d=\"M 11.71875 12.984375 \nL 28.328125 12.984375 \nL 28.328125 60.109375 \nL 11.28125 56.59375 \nL 11.28125 69.390625 \nL 28.21875 72.90625 \nL 46.09375 72.90625 \nL 46.09375 12.984375 \nL 62.703125 12.984375 \nL 62.703125 0 \nL 11.71875 0 \nz\n\" id=\"DejaVuSans-Bold-49\"/>\n      </defs>\n      <use xlink:href=\"#DejaVuSans-Bold-49\"/>\n     </g>\n    </g>\n   </g>\n   <g id=\"text_3\">\n    <g clip-path=\"url(#pb74a454f11)\">\n     <!-- 2 -->\n     <g transform=\"translate(226.406919 273.519514)scale(0.12 -0.12)\">\n      <defs>\n       <path d=\"M 28.8125 13.8125 \nL 60.890625 13.8125 \nL 60.890625 0 \nL 7.90625 0 \nL 7.90625 13.8125 \nL 34.515625 37.3125 \nQ 38.09375 40.53125 39.796875 43.609375 \nQ 41.5 46.6875 41.5 50 \nQ 41.5 55.125 38.0625 58.25 \nQ 34.625 61.375 28.90625 61.375 \nQ 24.515625 61.375 19.28125 59.5 \nQ 14.0625 57.625 8.109375 53.90625 \nL 8.109375 69.921875 \nQ 14.453125 72.015625 20.65625 73.109375 \nQ 26.859375 74.21875 32.8125 74.21875 \nQ 45.90625 74.21875 53.15625 68.453125 \nQ 60.40625 62.703125 60.40625 52.390625 \nQ 60.40625 46.4375 57.328125 41.28125 \nQ 54.25 36.140625 44.390625 27.484375 \nz\n\" id=\"DejaVuSans-Bold-50\"/>\n      </defs>\n      <use xlink:href=\"#DejaVuSans-Bold-50\"/>\n     </g>\n    </g>\n   </g>\n   <g id=\"text_4\">\n    <g clip-path=\"url(#pb74a454f11)\">\n     <!-- 3 -->\n     <g transform=\"translate(397.537709 246.450656)scale(0.12 -0.12)\">\n      <defs>\n       <path d=\"M 46.578125 39.3125 \nQ 53.953125 37.40625 57.78125 32.6875 \nQ 61.625 27.984375 61.625 20.703125 \nQ 61.625 9.859375 53.3125 4.21875 \nQ 45.015625 -1.421875 29.109375 -1.421875 \nQ 23.484375 -1.421875 17.84375 -0.515625 \nQ 12.203125 0.390625 6.6875 2.203125 \nL 6.6875 16.703125 \nQ 11.96875 14.0625 17.15625 12.71875 \nQ 22.359375 11.375 27.390625 11.375 \nQ 34.859375 11.375 38.84375 13.953125 \nQ 42.828125 16.546875 42.828125 21.390625 \nQ 42.828125 26.375 38.75 28.9375 \nQ 34.671875 31.5 26.703125 31.5 \nL 19.1875 31.5 \nL 19.1875 43.609375 \nL 27.09375 43.609375 \nQ 34.1875 43.609375 37.640625 45.828125 \nQ 41.109375 48.046875 41.109375 52.59375 \nQ 41.109375 56.78125 37.734375 59.078125 \nQ 34.375 61.375 28.21875 61.375 \nQ 23.6875 61.375 19.046875 60.34375 \nQ 14.40625 59.328125 9.8125 57.328125 \nL 9.8125 71.09375 \nQ 15.375 72.65625 20.84375 73.4375 \nQ 26.3125 74.21875 31.59375 74.21875 \nQ 45.796875 74.21875 52.84375 69.546875 \nQ 59.90625 64.890625 59.90625 55.515625 \nQ 59.90625 49.125 56.53125 45.046875 \nQ 53.171875 40.96875 46.578125 39.3125 \nz\n\" id=\"DejaVuSans-Bold-51\"/>\n      </defs>\n      <use xlink:href=\"#DejaVuSans-Bold-51\"/>\n     </g>\n    </g>\n   </g>\n   <g id=\"text_5\">\n    <g clip-path=\"url(#pb74a454f11)\">\n     <!-- 4 -->\n     <g transform=\"translate(371.413953 161.250208)scale(0.12 -0.12)\">\n      <defs>\n       <path d=\"M 36.8125 57.421875 \nL 16.21875 26.90625 \nL 36.8125 26.90625 \nz\nM 33.6875 72.90625 \nL 54.59375 72.90625 \nL 54.59375 26.90625 \nL 64.984375 26.90625 \nL 64.984375 13.28125 \nL 54.59375 13.28125 \nL 54.59375 0 \nL 36.8125 0 \nL 36.8125 13.28125 \nL 4.5 13.28125 \nL 4.5 29.390625 \nz\n\" id=\"DejaVuSans-Bold-52\"/>\n      </defs>\n      <use xlink:href=\"#DejaVuSans-Bold-52\"/>\n     </g>\n    </g>\n   </g>\n   <g id=\"text_6\">\n    <g clip-path=\"url(#pb74a454f11)\">\n     <!-- 5 -->\n     <g transform=\"translate(340.432007 35.502986)scale(0.12 -0.12)\">\n      <defs>\n       <path d=\"M 10.59375 72.90625 \nL 57.328125 72.90625 \nL 57.328125 59.078125 \nL 25.59375 59.078125 \nL 25.59375 47.796875 \nQ 27.734375 48.390625 29.90625 48.703125 \nQ 32.078125 49.03125 34.421875 49.03125 \nQ 47.75 49.03125 55.171875 42.359375 \nQ 62.59375 35.6875 62.59375 23.78125 \nQ 62.59375 11.96875 54.515625 5.265625 \nQ 46.4375 -1.421875 32.078125 -1.421875 \nQ 25.875 -1.421875 19.796875 -0.21875 \nQ 13.71875 0.984375 7.71875 3.421875 \nL 7.71875 18.21875 \nQ 13.671875 14.796875 19.015625 13.078125 \nQ 24.359375 11.375 29.109375 11.375 \nQ 35.9375 11.375 39.859375 14.71875 \nQ 43.796875 18.0625 43.796875 23.78125 \nQ 43.796875 29.546875 39.859375 32.859375 \nQ 35.9375 36.1875 29.109375 36.1875 \nQ 25.046875 36.1875 20.453125 35.125 \nQ 15.875 34.078125 10.59375 31.890625 \nz\n\" id=\"DejaVuSans-Bold-53\"/>\n      </defs>\n      <use xlink:href=\"#DejaVuSans-Bold-53\"/>\n     </g>\n    </g>\n   </g>\n  </g>\n </g>\n <defs>\n  <clipPath id=\"pb74a454f11\">\n   <rect height=\"288\" width=\"432\" x=\"7.2\" y=\"7.2\"/>\n  </clipPath>\n </defs>\n</svg>\n",
      "image/png": "[encoded data removed]"
     },
     "metadata": {}
    },
    {
     "output_type": "stream",
     "name": "stdout",
     "text": [
      "#nodes: 6, #edges: 14\nnode-0, #in_degrees 1, #out_degrees 1\nnode-1, #in_degrees 4, #out_degrees 3\nnode-2, #in_degrees 3, #out_degrees 3\nnode-3, #in_degrees 2, #out_degrees 3\nnode-4, #in_degrees 2, #out_degrees 4\nnode-5, #in_degrees 2, #out_degrees 0\n[[0 1 0 0 0 0]\n [0 0 1 1 0 1]\n [1 1 0 0 1 0]\n [0 1 1 0 1 0]\n [0 1 1 1 0 1]\n [0 0 0 0 0 0]]\n"
     ]
    }
   ],
   "source": [
    "import networkx as nx\n",
    "import numpy as np\n",
    "import matplotlib.pyplot as plt\n",
    "\n",
    "\n",
    "# generate a directed graph from the given adjacency matrix\n",
    "A = np.array([[0, 1, 0, 0, 0, 0],\n",
    "             [0, 0, 1, 1, 0, 1],\n",
    "             [1, 1, 0, 0, 1, 0],\n",
    "             [0, 1, 1, 0, 1, 0],\n",
    "             [0, 1, 1, 1, 0, 1],\n",
    "             [0, 0, 0, 0, 0, 0]])\n",
    "\n",
    "G = nx.from_numpy_matrix(A, create_using=nx.DiGraph)\n",
    "\n",
    "nx.draw(G, with_labels=True, font_weight='bold')\n",
    "plt.show()\n",
    "\n",
    "print('#nodes: {}, #edges: {}'.format(G.number_of_nodes(), G.number_of_edges()))\n",
    "\n",
    "# output the in_degrees and out_degrees of each node\n",
    "for idx in range(G.number_of_nodes()):\n",
    "    print('node-{}, #in_degrees {}, #out_degrees {}'.format(idx, G.in_degree(idx), G.out_degree(idx)))\n",
    "\n",
    "# get the adjacency matrix of graph G\n",
    "Adj = nx.adjacency_matrix(G).todense()\n",
    "print(Adj)"
   ]
  },
  {
   "cell_type": "markdown",
   "metadata": {},
   "source": [
    "## Task 1. Build the transition matrix from the adjacency matrix"
   ]
  },
  {
   "cell_type": "code",
   "execution_count": 12,
   "metadata": {},
   "outputs": [
    {
     "output_type": "stream",
     "name": "stdout",
     "text": [
      "[[0.         0.         0.33333333 0.         0.         0.16666667]\n",
      " [1.         0.         0.33333333 0.33333333 0.25       0.16666667]\n",
      " [0.         0.33333333 0.         0.33333333 0.25       0.16666667]\n",
      " [0.         0.33333333 0.         0.         0.25       0.16666667]\n",
      " [0.         0.         0.33333333 0.33333333 0.         0.16666667]\n",
      " [0.         0.33333333 0.         0.         0.25       0.16666667]]\n",
      "<ipython-input-12-2d0d2ae8414d>:2: RuntimeWarning: invalid value encountered in true_divide\n",
      "  trans_mat = Adj/Adj.sum(axis=1)\n"
     ]
    }
   ],
   "source": [
    "# your code to get the transition matrix M\n",
    "trans_mat = Adj/Adj.sum(axis=1)\n",
    "trans_mat = np.nan_to_num(trans_mat, nan=1/6)\n",
    "trans_mat = trans_mat.T\n",
    "print(trans_mat)"
   ]
  },
  {
   "cell_type": "markdown",
   "metadata": {},
   "source": [
    "## Task 2. Use the power iteration method to compute the importance score of nodes\n",
    "\n",
    "\n",
    "* Initialization: initialize the importance score vector $r_{0}=[1/6, 1/6, 1/6, 1/6, 1/6, 1/6]$.\n",
    "* Iterate: $r_{t+1} =  M r_{t}$\n",
    "* Stop when $\\|r_{t+1} - r_{t}\\|_1\\leq \\epsilon$\n"
   ]
  },
  {
   "cell_type": "code",
   "execution_count": 13,
   "metadata": {},
   "outputs": [
    {
     "output_type": "stream",
     "name": "stdout",
     "text": [
      "[[0.09110877]\n [0.26835483]\n [0.1996744 ]\n [0.15007883]\n [0.14070433]\n [0.15007883]]\n"
     ]
    }
   ],
   "source": [
    "# your code\n",
    "r0 = np.full((6,1),1/6)\n",
    "e = 0.01\n",
    "r_prev = r0\n",
    "r_new = None\n",
    "con = True\n",
    "while con:\n",
    "    r_new = np.dot(trans_mat, r_prev)\n",
    "    if np.linalg.norm(r_new-r_prev, ord=1) < e:\n",
    "        con = False\n",
    "    r_prev = r_new\n",
    "\n",
    "print(r_new)"
   ]
  },
  {
   "cell_type": "markdown",
   "metadata": {},
   "source": [
    "## Task 3. In the given graph, are there any dead ends?\n",
    "\n",
    "If there are some dead ends in the given graph, please use the Random Teleports method to re-compute the importance score. In particular, please construct a new transition matrix as follows,\n",
    "\n",
    "$$G = \\beta M + (1-\\beta)[\\frac{1}{6}]_{6\\times 6}$$\n",
    "\n",
    "Here, $0<\\beta<1$. Apply the power iteration method to $G$. Compare the obtained importance score with that obtained in Task 2. "
   ]
  },
  {
   "source": [],
   "cell_type": "markdown",
   "metadata": {}
  },
  {
   "cell_type": "code",
   "execution_count": 14,
   "metadata": {},
   "outputs": [
    {
     "output_type": "stream",
     "name": "stdout",
     "text": [
      "[[0.10445761]\n [0.25633141]\n [0.19173882]\n [0.15127572]\n [0.14492071]\n [0.15127572]]\n"
     ]
    }
   ],
   "source": [
    "# your code\n",
    "\n",
    "# There is a dead end in the given graph, where at node #5 there is no out links\n",
    "# The newly computed important score is very similar to that in Task 2,\n",
    "# setting the beta randomly between 0 and 1 in each iteration could be a better approach.\n",
    "\n",
    "beta = 0.8\n",
    "tem_mat = np.full((6,6), 1/6)\n",
    "new_trans_mat = beta*trans_mat+(1-beta)*tem_mat\n",
    "\n",
    "r0 = np.full((6,1),1/6)\n",
    "e = 0.01\n",
    "r_prev = r0\n",
    "r_new = None\n",
    "con = True\n",
    "while con:\n",
    "    r_new = np.dot(new_trans_mat, r_prev)\n",
    "    if np.linalg.norm(r_new-r_prev, ord=1) < e:\n",
    "        con = False\n",
    "    r_prev = r_new\n",
    "\n",
    "print(r_new)\n",
    "\n",
    "# Important score from Task 2\n",
    "# [[0.09110877]\n",
    "# [0.26835483]\n",
    "# [0.1996744 ]\n",
    "# [0.15007883]\n",
    "# [0.14070433]\n",
    "# [0.15007883]]"
   ]
  },
  {
   "cell_type": "code",
   "execution_count": null,
   "metadata": {},
   "outputs": [],
   "source": []
  }
 ],
 "metadata": {
  "kernelspec": {
   "name": "python391jvsc74a57bd07812ea015bdcee6f23a998adcdd2ef97c151c0c241b7b7070987d9313e41299d",
   "display_name": "Python 3.9.1 64-bit"
  },
  "language_info": {
   "codemirror_mode": {
    "name": "ipython",
    "version": 3
   },
   "file_extension": ".py",
   "mimetype": "text/x-python",
   "name": "python",
   "nbconvert_exporter": "python",
   "pygments_lexer": "ipython3",
   "version": "3.9.1-final"
  }
 },
 "nbformat": 4,
 "nbformat_minor": 2
}